{
  "nbformat": 4,
  "nbformat_minor": 0,
  "metadata": {
    "colab": {
      "name": "oppg_a.ipynb",
      "version": "0.3.2",
      "provenance": [],
      "collapsed_sections": [],
      "include_colab_link": true
    },
    "kernelspec": {
      "name": "python3",
      "display_name": "Python 3"
    }
  },
  "cells": [
    {
      "cell_type": "markdown",
      "metadata": {
        "id": "view-in-github",
        "colab_type": "text"
      },
      "source": [
        "<a href=\"https://colab.research.google.com/github/Magnusrm/TDAT3025-Machine-Learning/blob/master/Task1.2/oppg_a.ipynb\" target=\"_parent\"><img src=\"https://colab.research.google.com/assets/colab-badge.svg\" alt=\"Open In Colab\"/></a>"
      ]
    },
    {
      "cell_type": "code",
      "metadata": {
        "id": "_j-1d3KU9Trh",
        "colab_type": "code",
        "outputId": "d29c0a55-f638-43c8-aa47-9f9e384b1f05",
        "colab": {
          "base_uri": "https://localhost:8080/",
          "height": 336
        }
      },
      "source": [
        "import tensorflow as tf\n",
        "import pandas as pd\n",
        "import numpy as np\n",
        "\n",
        "\n",
        "from math import e\n",
        "from matplotlib import pyplot as plt\n",
        "\n",
        "\n",
        "\n",
        "x_train = np.mat([[0], [1]])\n",
        "y_train = np.mat([[1], [0]])\n",
        "\n",
        "class SigmoidModel:\n",
        "    def __init__(self):\n",
        "\n",
        "        self.x = tf.placeholder(tf.float32)\n",
        "        self.y = tf.placeholder(tf.float32)\n",
        "\n",
        "        self.W = tf.Variable([[0.0]])\n",
        "        self.b = tf.Variable([[0.0]])\n",
        "\n",
        "        self.logits = tf.matmul(self.x, self.W) + self.b\n",
        "\n",
        "        self.loss = tf.nn.sigmoid_cross_entropy_with_logits(labels=self.y, logits=self.logits)\n",
        "        \n",
        "model = SigmoidModel()\n",
        "\n",
        "minimize_operation = tf.train.GradientDescentOptimizer(10).minimize(model.loss)\n",
        "\n",
        "session = tf.Session()\n",
        "\n",
        "session.run(tf.global_variables_initializer())\n",
        "\n",
        "for epoch in range(1000):\n",
        "    session.run(minimize_operation, {model.x: x_train, model.y: y_train})\n",
        "\n",
        "# Evaluate training accuracy\n",
        "W, b, loss = session.run([model.W, model.b, model.loss], {model.x: x_train, model.y: y_train})\n",
        "print(\"W = %s, b = %s, loss = %s\" % (W, b, loss))\n",
        "\n",
        "session.close()\n",
        "\n",
        "\n",
        "\n",
        "fig, ax = plt.subplots()\n",
        "\n",
        "ax.plot(x_train, y_train, 'o', label='$(\\\\hat x^{(i)},\\\\hat y^{(i)})$')\n",
        "ax.set_xlabel('x')\n",
        "ax.set_ylabel('y')\n",
        "\n",
        "class NonLinearRegressionModel:\n",
        "    def __init__(self, W, b):\n",
        "        self.W = W\n",
        "        self.b = b\n",
        "\n",
        "    # Predictor\n",
        "    def f(self, x):\n",
        "        #print(\"f:result: \" + self.sigmoid(np.matmul(x, self.W) + self.b))\n",
        "        return self.sigmoid(np.matmul(x, self.W) + self.b)\n",
        "        #return x * self.W + self.b\n",
        "\n",
        "    def sigmoid(self, z):\n",
        "        return 1 / (1 + np.exp(-z))\n",
        "\n",
        "    # Mean Squared Error\n",
        "    def loss(self, x, y):\n",
        "        return np.mean(np.square(self.f(x) - y))\n",
        "\n",
        "\n",
        "model = NonLinearRegressionModel(np.mat(W), np.mat(b))\n",
        "x = np.expand_dims(np.arange(np.min(x_train), np.max(x_train), 0.0001), 1)\n",
        "#print(x)\n",
        "#x = np.mat([[np.min(x_train)], [np.max(x_train)]])\n",
        "#print(\"Y: %s\" % (model.f(x)))\n",
        "ax.plot(x, model.f(x), label='$y = f(x) = xW+b$')\n",
        "\n",
        "print('loss:', model.loss(x_train, y_train))\n",
        "\n",
        "ax.legend()\n",
        "plt.show()\n"
      ],
      "execution_count": 0,
      "outputs": [
        {
          "output_type": "stream",
          "text": [
            "W = [[-16.683527]], b = [[8.138975]], loss = [[0.00029189]\n",
            " [0.00019458]]\n",
            "loss: 6.151620093987922e-08\n"
          ],
          "name": "stdout"
        },
        {
          "output_type": "display_data",
          "data": {
            "image/png": "[encoded data removed]",
            "text/plain": [
              "<Figure size 432x288 with 1 Axes>"
            ]
          },
          "metadata": {
            "tags": []
          }
        }
      ]
    }
  ]
}