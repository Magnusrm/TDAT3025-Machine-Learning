{
  "nbformat": 4,
  "nbformat_minor": 0,
  "metadata": {
    "colab": {
      "name": "oppg_b.ipynb",
      "version": "0.3.2",
      "provenance": [],
      "include_colab_link": true
    },
    "kernelspec": {
      "name": "python3",
      "display_name": "Python 3"
    }
  },
  "cells": [
    {
      "cell_type": "markdown",
      "metadata": {
        "id": "view-in-github",
        "colab_type": "text"
      },
      "source": [
        "<a href=\"https://colab.research.google.com/github/Magnusrm/TDAT3025-Machine-Learning/blob/master/Task1.1/oppg_b.ipynb\" target=\"_parent\"><img src=\"https://colab.research.google.com/assets/colab-badge.svg\" alt=\"Open In Colab\"/></a>"
      ]
    },
    {
      "cell_type": "code",
      "metadata": {
        "id": "exrvI_JM_DiM",
        "colab_type": "code",
        "colab": {}
      },
      "source": [
        "pip install --upgrade tensorflow"
      ],
      "execution_count": 0,
      "outputs": []
    },
    {
      "cell_type": "code",
      "metadata": {
        "id": "7ryao-8p_JcM",
        "colab_type": "code",
        "outputId": "0c969197-3daa-415c-bed7-a2ac74eb0582",
        "colab": {
          "base_uri": "https://localhost:8080/",
          "height": 35
        }
      },
      "source": [
        "import pandas as pd\n",
        "import tensorflow as tf\n",
        "import numpy as np\n",
        "\n",
        "\n",
        "train_data = np.array(pd.read_csv(\"https://gitlab.com/ntnu-tdat3025/regression/childgrowth-datasets/raw/master/day_length_weight.csv\")).transpose()\n",
        "\n",
        "x_train = np.expand_dims(train_data[0], 1)\n",
        "y_train = np.expand_dims(train_data[1], 1)\n",
        "z_train = np.expand_dims(train_data[2], 1)\n",
        "\n",
        "\n",
        "class LinearRegressionModel:\n",
        "    def __init__(self):\n",
        "        # Model input\n",
        "        self.x = tf.placeholder(tf.float32)\n",
        "        self.z = tf.placeholder(tf.float32)\n",
        "        self.y = tf.placeholder(tf.float32)\n",
        "\n",
        "        # Model variables\n",
        "        self.W1 = tf.Variable([0.0])\n",
        "        self.W2 = tf.Variable([0.0])\n",
        "        self.b = tf.Variable([0.0])\n",
        "\n",
        "        # Predictor\n",
        "        f = self.y * self.W1 + self.z * self.W2 + self.b\n",
        "\n",
        "        # Mean Squared Error\n",
        "        self.loss = tf.reduce_mean(tf.square(f - self.y))\n",
        "\n",
        "\n",
        "model = LinearRegressionModel()\n",
        "\n",
        "# Training: adjust the model so that its loss is minimized\n",
        "minimize_operation = tf.train.AdamOptimizer(1000).minimize(model.loss)\n",
        "\n",
        "# Create session object for running TensorFlow operations\n",
        "session = tf.Session()\n",
        "\n",
        "# Initialize tf.Variable objects\n",
        "session.run(tf.global_variables_initializer())\n",
        "\n",
        "for epoch in range(1000):\n",
        "    session.run(minimize_operation, {model.x: x_train, model.z: z_train, model.y: y_train})\n",
        "\n",
        "# Evaluate training accuracy\n",
        "W1, W2, b, loss = session.run([model.W1, model.W2, model.b, model.loss], {model.x: x_train, model.z: z_train, model.y: y_train})\n",
        "print(\"W1 = %s, W2 = %s, b = %s, loss = %s\" % (W1, W2, b, loss))\n",
        "\n",
        "\n",
        "\n",
        "\n",
        "session.close()"
      ],
      "execution_count": 0,
      "outputs": [
        {
          "output_type": "stream",
          "text": [
            "W1 = [0.9972039], W2 = [0.00658903], b = [0.16818154], loss = 0.0005391823\n"
          ],
          "name": "stdout"
        }
      ]
    }
  ]
}