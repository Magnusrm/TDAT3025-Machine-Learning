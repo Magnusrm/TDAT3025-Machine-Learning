{
  "nbformat": 4,
  "nbformat_minor": 0,
  "metadata": {
    "colab": {
      "name": "oppg_a.ipynb",
      "version": "0.3.2",
      "provenance": [],
      "include_colab_link": true
    },
    "kernelspec": {
      "name": "python3",
      "display_name": "Python 3"
    }
  },
  "cells": [
    {
      "cell_type": "markdown",
      "metadata": {
        "id": "view-in-github",
        "colab_type": "text"
      },
      "source": [
        "<a href=\"https://colab.research.google.com/github/Magnusrm/TDAT3025-Machine-Learning/blob/master/Task1.1/oppg_a.ipynb\" target=\"_parent\"><img src=\"https://colab.research.google.com/assets/colab-badge.svg\" alt=\"Open In Colab\"/></a>"
      ]
    },
    {
      "cell_type": "code",
      "metadata": {
        "id": "-0WXX0Wf2nGX",
        "colab_type": "code",
        "colab": {}
      },
      "source": [
        "pip install --upgrade tensorflow"
      ],
      "execution_count": 0,
      "outputs": []
    },
    {
      "cell_type": "code",
      "metadata": {
        "id": "cC_NgimZi0Ml",
        "colab_type": "code",
        "outputId": "b9cc45cd-0f53-4dd3-c01f-d08f52568c81",
        "colab": {
          "base_uri": "https://localhost:8080/",
          "height": 35
        }
      },
      "source": [
        "\n",
        "import pandas as pd\n",
        "import tensorflow as tf\n",
        "import numpy as np\n",
        "\n",
        "\n",
        "train_data = np.array(pd.read_csv(\"https://gitlab.com/ntnu-tdat3025/regression/childgrowth-datasets/raw/master/length_weight.csv\")).transpose()\n",
        "\n",
        "x_train = np.expand_dims(train_data[0], 1)\n",
        "y_train = np.expand_dims(train_data[1], 1)\n",
        "\n",
        "class LinearRegressionModel:\n",
        "    def __init__(self):\n",
        "        # Model input\n",
        "        self.x = tf.placeholder(tf.float32)\n",
        "        self.y = tf.placeholder(tf.float32)\n",
        "\n",
        "        # Model variables\n",
        "        self.W = tf.Variable([[0.0]])\n",
        "        self.b = tf.Variable([[0.0]])\n",
        "\n",
        "        # Predictor\n",
        "        f = tf.matmul(self.x, self.W) + self.b\n",
        "\n",
        "        # Mean Squared Error\n",
        "        self.loss = tf.reduce_mean(tf.square(f - self.y))\n",
        "\n",
        "\n",
        "model = LinearRegressionModel()\n",
        "\n",
        "# Training: adjust the model so that its loss is minimized\n",
        "minimize_operation = tf.train.GradientDescentOptimizer(0.00001).minimize(model.loss)\n",
        "\n",
        "# Create session object for running TensorFlow operations\n",
        "session = tf.Session()\n",
        "\n",
        "# Initialize tf.Variable objects\n",
        "session.run(tf.global_variables_initializer())\n",
        "\n",
        "for epoch in range(1000):\n",
        "    session.run(minimize_operation, {model.x: x_train, model.y: y_train})\n",
        "\n",
        "# Evaluate training accuracy\n",
        "W, b, loss = session.run([model.W, model.b, model.loss], {model.x: x_train, model.y: y_train})\n",
        "print(\"W = %s, b = %s, loss = %s\" % (W, b, loss))\n",
        "\n",
        "session.close()\n"
      ],
      "execution_count": 0,
      "outputs": [
        {
          "output_type": "stream",
          "text": [
            "W = [[0.13666812]], b = [[-0.00767145]], loss = 4.9561467\n"
          ],
          "name": "stdout"
        }
      ]
    },
    {
      "cell_type": "code",
      "metadata": {
        "id": "nQudeBUcRSVy",
        "colab_type": "code",
        "outputId": "2c5212b6-7b48-49ef-8128-7ffa5e8e14a1",
        "colab": {
          "base_uri": "https://localhost:8080/",
          "height": 301
        }
      },
      "source": [
        "import numpy as np\n",
        "import matplotlib.pyplot as plt\n",
        "import pandas as pd\n",
        "\n",
        "fig, ax = plt.subplots()\n",
        "\n",
        "train_data = np.array(pd.read_csv(\"https://gitlab.com/ntnu-tdat3025/regression/childgrowth-datasets/raw/master/length_weight.csv\")).transpose()\n",
        "\n",
        "x_train = np.expand_dims(train_data[0], 1)\n",
        "y_train = np.expand_dims(train_data[1], 1)\n",
        "\n",
        "ax.plot(x_train, y_train, 'o', label='$(\\\\hat x^{(i)},\\\\hat y^{(i)})$')\n",
        "ax.set_xlabel('x')\n",
        "ax.set_ylabel('y')\n",
        "\n",
        "\n",
        "class LinearRegressionModel:\n",
        "    def __init__(self, W, b):\n",
        "        self.W = W\n",
        "        self.b = b\n",
        "\n",
        "    # Predictor\n",
        "    def f(self, x):\n",
        "        return x * self.W + self.b\n",
        "\n",
        "    # Mean Squared Error\n",
        "    def loss(self, x, y):\n",
        "        return np.mean(np.square(self.f(x) - y))\n",
        "\n",
        "\n",
        "model = LinearRegressionModel(np.mat([[0.13666812]]), np.mat([[-0.00767145]]))\n",
        "\n",
        "x = np.mat([[np.min(x_train)], [np.max(x_train)]])\n",
        "ax.plot(x, model.f(x), label='$y = f(x) = xW+b$')\n",
        "\n",
        "print('loss:', model.loss(x_train, y_train))\n",
        "\n",
        "ax.legend()\n",
        "plt.show()\n"
      ],
      "execution_count": 0,
      "outputs": [
        {
          "output_type": "stream",
          "text": [
            "loss: 4.9561465013459625\n"
          ],
          "name": "stdout"
        },
        {
          "output_type": "display_data",
          "data": {
            "image/png": "[encoded data removed]",
            "text/plain": [
              "<Figure size 432x288 with 1 Axes>"
            ]
          },
          "metadata": {
            "tags": []
          }
        }
      ]
    }
  ]
}