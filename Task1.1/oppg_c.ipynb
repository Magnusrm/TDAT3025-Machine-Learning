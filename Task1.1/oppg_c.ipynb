{
  "nbformat": 4,
  "nbformat_minor": 0,
  "metadata": {
    "colab": {
      "name": "oppg_c.ipynb",
      "version": "0.3.2",
      "provenance": [],
      "include_colab_link": true
    },
    "kernelspec": {
      "name": "python3",
      "display_name": "Python 3"
    }
  },
  "cells": [
    {
      "cell_type": "markdown",
      "metadata": {
        "id": "view-in-github",
        "colab_type": "text"
      },
      "source": [
        "<a href=\"https://colab.research.google.com/github/Magnusrm/TDAT3025-Machine-Learning/blob/master/Task1.1/oppg_c.ipynb\" target=\"_parent\"><img src=\"https://colab.research.google.com/assets/colab-badge.svg\" alt=\"Open In Colab\"/></a>"
      ]
    },
    {
      "cell_type": "code",
      "metadata": {
        "id": "r4P3dyG-bDpu",
        "colab_type": "code",
        "outputId": "f5541ae1-fc62-4b90-e00a-7ee1ff6ae292",
        "colab": {
          "base_uri": "https://localhost:8080/",
          "height": 831
        }
      },
      "source": [
        "from math import exp, e\n",
        "from matplotlib import pyplot as plt\n",
        "\n",
        "import numpy as np\n",
        "import tensorflow as tf\n",
        "import pandas as pd\n",
        "\n",
        "data = np.array(pd.read_csv( \"https://gitlab.com/ntnu-tdat3025/regression/childgrowth-datasets/raw/master/day_head_circumference.csv\")).transpose()\n",
        "print(data)\n",
        "# Observed/training input and output\n",
        "x_train = np.expand_dims(data[0], 1)\n",
        "y_train = np.expand_dims(data[1], 1)\n",
        "\n",
        "\n",
        "class LinearRegressionModel:\n",
        "    def __init__(self):\n",
        "        # Model input\n",
        "        self.x = tf.placeholder(tf.float32)\n",
        "        self.y = tf.placeholder(tf.float32)\n",
        "        # Model variables\n",
        "        self.W = tf.Variable([[0.0]])\n",
        "        self.b = tf.Variable([[0.0]])\n",
        "        # Predictor\n",
        "        #f = tf.matmul(self.x, self.W) + self.b\n",
        "        # x = xW+b\n",
        "        f = 20 * (1 / (1 + e**((-1) * (tf.matmul(self.x, self.W) + self.b)))) + 31\n",
        "        # Uses Mean Squared Error\n",
        "        #self.loss = tf.losses.mean_squared_error(f, self.y)\n",
        "        self.loss = tf.reduce_mean(tf.square(f - self.y))\n",
        "        \n",
        "\n",
        "model = LinearRegressionModel()\n",
        "\n",
        "# Training: adjust the model so that its loss is minimized\n",
        "minimize_operation = tf.train.GradientDescentOptimizer(0.000000001).minimize(model.loss)\n",
        "\n",
        "# Create session object for running TF operations\n",
        "session = tf.Session()\n",
        "\n",
        "# Init tf.Variable objects\n",
        "session.run(tf.global_variables_initializer())\n",
        "\n",
        "for epoch in range(10000):\n",
        "    session.run(minimize_operation, {model.x: x_train, model.y: y_train})\n",
        "\n",
        "# Evaluate training accuracy\n",
        "W, b, loss = session.run([model.W, model.b, model.loss], {model.x: x_train, model.y: y_train})\n",
        "print(\"W = %s, b = %s, loss = %s\" % (W, b, loss))\n",
        "\n",
        "session.close()\n",
        "\n",
        "print(\"w: %s  b: %s\" % (W, b))\n",
        "\n",
        "fig, ax = plt.subplots()\n",
        "\n",
        "ax.plot(x_train, y_train, 'o', label='$(\\\\hat x^{(i)},\\\\hat y^{(i)})$')\n",
        "ax.set_xlabel('x')\n",
        "ax.set_ylabel('y')\n",
        "\n",
        "class NonLinearRegressionModel:\n",
        "    def __init__(self, W, b):\n",
        "        self.W = W\n",
        "        self.b = b\n",
        "\n",
        "    # Predictor\n",
        "    def f(self, x):\n",
        "        return 20 * self.g(np.matmul(x, self.W) + self.b) + 31\n",
        "        #return x * self.W + self.b\n",
        "\n",
        "    def g(self, z):\n",
        "        return 1 / (1 + np.exp(-z))\n",
        "\n",
        "    # Mean Squared Error\n",
        "    def loss(self, x, y):\n",
        "        return np.mean(np.square(self.f(x) - y))\n",
        "\n",
        "\n",
        "model = NonLinearRegressionModel(np.mat(W), np.mat(b))\n",
        "\n",
        "x = np.expand_dims(np.arange(np.min(x_train), np.max(x_train), 100), 1)\n",
        "print(x)\n",
        "#x = np.mat([[np.min(x_train)], [np.max(x_train)]])\n",
        "ax.plot(x, model.f(x), label='$y = f(x) = xW+b$')\n",
        "\n",
        "print('loss:', model.loss(x_train, y_train))\n",
        "\n",
        "ax.legend()\n",
        "plt.show()\n",
        "\n"
      ],
      "execution_count": 0,
      "outputs": [
        {
          "output_type": "stream",
          "text": [
            "WARNING: Logging before flag parsing goes to stderr.\n",
            "W0827 09:34:12.171692 140704702723968 deprecation.py:323] From /usr/local/lib/python3.6/dist-packages/tensorflow/python/ops/math_grad.py:1205: add_dispatch_support.<locals>.wrapper (from tensorflow.python.ops.array_ops) is deprecated and will be removed in a future version.\n",
            "Instructions for updating:\n",
            "Use tf.where in 2.0, which has the same broadcast rule as np.where\n"
          ],
          "name": "stderr"
        },
        {
          "output_type": "stream",
          "text": [
            "[[ 889.          209.         1838.         ...  156.\n",
            "   450.          348.        ]\n",
            " [  49.98988629   42.73974526   50.93172234 ...   41.3450777\n",
            "    46.95054869   44.59482334]]\n",
            "W = [[0.00259149]], b = [[-8.7575845e-06]], loss = 2.6774292\n",
            "w: [[0.00259149]]  b: [[-8.7575845e-06]]\n",
            "[[   2.]\n",
            " [ 102.]\n",
            " [ 202.]\n",
            " [ 302.]\n",
            " [ 402.]\n",
            " [ 502.]\n",
            " [ 602.]\n",
            " [ 702.]\n",
            " [ 802.]\n",
            " [ 902.]\n",
            " [1002.]\n",
            " [1102.]\n",
            " [1202.]\n",
            " [1302.]\n",
            " [1402.]\n",
            " [1502.]\n",
            " [1602.]\n",
            " [1702.]\n",
            " [1802.]]\n",
            "loss: 2.677428935296977\n"
          ],
          "name": "stdout"
        },
        {
          "output_type": "display_data",
          "data": {
            "image/png": "[encoded data removed]",
            "text/plain": [
              "<Figure size 432x288 with 1 Axes>"
            ]
          },
          "metadata": {
            "tags": []
          }
        }
      ]
    }
  ]
}